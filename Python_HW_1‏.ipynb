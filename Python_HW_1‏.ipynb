{
  "nbformat": 4,
  "nbformat_minor": 0,
  "metadata": {
    "colab": {
      "provenance": [],
      "authorship_tag": "ABX9TyN9ZCBi8S2qeJjjJ5oadw7X",
      "include_colab_link": true
    },
    "kernelspec": {
      "name": "python3",
      "display_name": "Python 3"
    },
    "language_info": {
      "name": "python"
    }
  },
  "cells": [
    {
      "cell_type": "markdown",
      "metadata": {
        "id": "view-in-github",
        "colab_type": "text"
      },
      "source": [
        "<a href=\"https://colab.research.google.com/github/ShahadFaden/MASAR-Bootcamp-2/blob/main/Python_HW_1%E2%80%8F.ipynb\" target=\"_parent\"><img src=\"https://colab.research.google.com/assets/colab-badge.svg\" alt=\"Open In Colab\"/></a>"
      ]
    },
    {
      "cell_type": "code",
      "execution_count": 6,
      "metadata": {
        "colab": {
          "base_uri": "https://localhost:8080/"
        },
        "id": "Y1qtYxrfIJxK",
        "outputId": "8e3bf037-376c-4dfd-ae35-c87db69c1185"
      },
      "outputs": [
        {
          "output_type": "stream",
          "name": "stdout",
          "text": [
            "My name is Shahad Faden and my age is 24  Graduate from King Abdulaziz University, majoring in statistics\n"
          ]
        }
      ],
      "source": [
        "#تعريف لمتغير الاسم\n",
        "name = 'Shahad Faden'\n",
        "\n",
        "#تعريف لمتغير العمر\n",
        "age = 24\n",
        "\n",
        "#أمر الطباعة\n",
        "print('My name is '+  name + ' and my age is ' + str(age) + '  Graduate from King Abdulaziz University, majoring in statistics')"
      ]
    },
    {
      "cell_type": "code",
      "execution_count": null,
      "metadata": {
        "id": "jy2wsRLWI0An"
      },
      "outputs": [],
      "source": []
    }
  ]
}