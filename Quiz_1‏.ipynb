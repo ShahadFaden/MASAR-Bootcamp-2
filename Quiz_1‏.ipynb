{
  "nbformat": 4,
  "nbformat_minor": 0,
  "metadata": {
    "colab": {
      "provenance": [],
      "authorship_tag": "ABX9TyMdwam99MbNKvg/jenb0awe",
      "include_colab_link": true
    },
    "kernelspec": {
      "name": "python3",
      "display_name": "Python 3"
    },
    "language_info": {
      "name": "python"
    }
  },
  "cells": [
    {
      "cell_type": "markdown",
      "metadata": {
        "id": "view-in-github",
        "colab_type": "text"
      },
      "source": [
        "<a href=\"https://colab.research.google.com/github/ShahadFaden/MASAR-Bootcamp-2/blob/main/Quiz_1%E2%80%8F.ipynb\" target=\"_parent\"><img src=\"https://colab.research.google.com/assets/colab-badge.svg\" alt=\"Open In Colab\"/></a>"
      ]
    },
    {
      "cell_type": "code",
      "execution_count": 1,
      "metadata": {
        "colab": {
          "base_uri": "https://localhost:8080/"
        },
        "id": "EOQZodcsSUz2",
        "outputId": "1a146d2d-5be5-4215-cdbc-cc6309799958"
      },
      "outputs": [
        {
          "output_type": "stream",
          "name": "stdout",
          "text": [
            "الأعداد التي يكون مجموعها 9: 2 و 7\n"
          ]
        }
      ],
      "source": [
        "def find_sum_pair(arr, target_sum):\n",
        "    n = len(arr)\n",
        "    for i in range(n):\n",
        "        for j in range(i + 1, n):\n",
        "            if arr[i] + arr[j] == target_sum:\n",
        "                return arr[i], arr[j]\n",
        "    return None\n",
        "\n",
        "# مثال على استخدام الدالة\n",
        "nums = [2, 4, 7, 11, 15]\n",
        "target = 9\n",
        "\n",
        "result = find_sum_pair(nums, target)\n",
        "if result:\n",
        "    print(f\"الأعداد التي يكون مجموعها {target}: {result[0]} و {result[1]}\")\n",
        "else:\n",
        "    print(\"لا يوجد عددين يكون مجموعهما المطلوب\")"
      ]
    }
  ]
}