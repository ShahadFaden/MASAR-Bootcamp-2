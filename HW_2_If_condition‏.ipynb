{
  "nbformat": 4,
  "nbformat_minor": 0,
  "metadata": {
    "colab": {
      "provenance": [],
      "authorship_tag": "ABX9TyMC4kfr/3kSeYI309rgo45D",
      "include_colab_link": true
    },
    "kernelspec": {
      "name": "python3",
      "display_name": "Python 3"
    },
    "language_info": {
      "name": "python"
    }
  },
  "cells": [
    {
      "cell_type": "markdown",
      "metadata": {
        "id": "view-in-github",
        "colab_type": "text"
      },
      "source": [
        "<a href=\"https://colab.research.google.com/github/ShahadFaden/MASAR-Bootcamp-2/blob/main/HW_2_If_condition%E2%80%8F.ipynb\" target=\"_parent\"><img src=\"https://colab.research.google.com/assets/colab-badge.svg\" alt=\"Open In Colab\"/></a>"
      ]
    },
    {
      "cell_type": "code",
      "execution_count": 3,
      "metadata": {
        "colab": {
          "base_uri": "https://localhost:8080/"
        },
        "id": "ssvCaqCuQnwW",
        "outputId": "97ecbeb5-24d2-4bf7-d6a7-8793f1a8af45"
      },
      "outputs": [
        {
          "output_type": "stream",
          "name": "stdout",
          "text": [
            "نسبة المكافأة: 10.0%\n"
          ]
        }
      ],
      "source": [
        "#تعريف المتغيرات\n",
        "years_of_experience = 8\n",
        "performance_rating = \"ممتاز\"\n",
        "\n",
        "if years_of_experience <= 10:\n",
        "    if performance_rating == \"ممتاز\":\n",
        "        bonus_percentage = 0.1\n",
        "\n",
        "    elif performance_rating == \"ضعيف\":\n",
        "        bonus_percentage = 0.05\n",
        "else:\n",
        "\n",
        "    if performance_rating == \"ممتاز\":\n",
        "        bonus_percentage = 0.2\n",
        "\n",
        "    elif performance_rating == \"ضعيف\":\n",
        "        bonus_percentage = 0.15\n",
        "\n",
        "# تحويل النسبة إلى قيمة مئوية\n",
        "bonus_amount = bonus_percentage * 100\n",
        "\n",
        "# طباعة نتيجة المكافأة\n",
        "print(f\"نسبة المكافأة: {bonus_amount}%\")"
      ]
    }
  ]
}