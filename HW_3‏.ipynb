{
  "nbformat": 4,
  "nbformat_minor": 0,
  "metadata": {
    "colab": {
      "provenance": [],
      "authorship_tag": "ABX9TyMjT3W/xbbwpjl9IB12mSQl",
      "include_colab_link": true
    },
    "kernelspec": {
      "name": "python3",
      "display_name": "Python 3"
    },
    "language_info": {
      "name": "python"
    }
  },
  "cells": [
    {
      "cell_type": "markdown",
      "metadata": {
        "id": "view-in-github",
        "colab_type": "text"
      },
      "source": [
        "<a href=\"https://colab.research.google.com/github/ShahadFaden/MASAR-Bootcamp-2/blob/main/HW_3%E2%80%8F.ipynb\" target=\"_parent\"><img src=\"https://colab.research.google.com/assets/colab-badge.svg\" alt=\"Open In Colab\"/></a>"
      ]
    },
    {
      "cell_type": "code",
      "execution_count": 5,
      "metadata": {
        "colab": {
          "base_uri": "https://localhost:8080/"
        },
        "id": "5GhZNm5yBNAZ",
        "outputId": "410ef377-becd-46a4-95c1-06fe9e293fec"
      },
      "outputs": [
        {
          "output_type": "stream",
          "name": "stdout",
          "text": [
            "\n",
            "* \n",
            "* * \n",
            "* * * \n",
            "* * * * \n",
            "* * * * * \n",
            "* * * * \n",
            "* * * \n",
            "* * \n",
            "* \n"
          ]
        }
      ],
      "source": [
        "#Q1:\n",
        "\n",
        "#عدد الصفوف\n",
        "row = 5\n",
        "\n",
        "for i in range(row):\n",
        "\n",
        "    for j in range(i):\n",
        "\n",
        "        print('* ', end=\"\")\n",
        "\n",
        "    print('')\n",
        "\n",
        "for i in range(row, 0, -1):\n",
        "\n",
        "    for j in range(i):\n",
        "\n",
        "        print('* ', end=\"\")\n",
        "\n",
        "    print('')\n"
      ]
    },
    {
      "cell_type": "code",
      "source": [
        "#Q2:\n",
        "\n",
        "def is_prime(n):\n",
        "    if n <= 1:\n",
        "        return False\n",
        "    for i in range(2, int(n**0.5) + 1):\n",
        "        if n % i == 0:\n",
        "            return False\n",
        "    return True\n",
        "\n",
        "count = 0\n",
        "num = 11  # Start checking from 11, as it is the first number greater than 10\n",
        "\n",
        "while count < 3:\n",
        "    if is_prime(num):\n",
        "        print(num)\n",
        "        count += 1\n",
        "    num += 1"
      ],
      "metadata": {
        "colab": {
          "base_uri": "https://localhost:8080/"
        },
        "id": "BVPrZi6IEW1Z",
        "outputId": "b06352f8-9f86-4cd4-a64b-277c010750a3"
      },
      "execution_count": 9,
      "outputs": [
        {
          "output_type": "stream",
          "name": "stdout",
          "text": [
            "11\n",
            "13\n",
            "17\n"
          ]
        }
      ]
    }
  ]
}